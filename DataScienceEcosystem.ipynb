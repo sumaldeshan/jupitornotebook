{
 "cells": [
  {
   "cell_type": "markdown",
   "id": "a8235637-d251-4283-9966-e5ece1ee7e9a",
   "metadata": {},
   "source": [
    "# Data Science Tools and Ecosystem"
   ]
  },
  {
   "cell_type": "markdown",
   "id": "31d47ab1-8a89-43f0-be3e-f368f2fda17d",
   "metadata": {},
   "source": [
    "In this notebook, Data Science Tools and Ecosystem are summarized."
   ]
  },
  {
   "cell_type": "markdown",
   "id": "e348f218-4495-4bfc-bbbf-e0fc4ed47d6f",
   "metadata": {
    "tags": []
   },
   "source": [
    "**Objectives:**\n",
    "\n",
    "- Understand popular languages for Data Science.\n",
    "- Explore commonly used libraries in Data Science.\n",
    "- Learn about development environment tools for Data Science.\n",
    "- Practice evaluating arithmetic expressions in Python.\n",
    "- Gain knowledge on converting units, such as minutes to hours."
   ]
  },
  {
   "cell_type": "markdown",
   "id": "3500bbb7-fa07-48cd-87a7-2524e8fa8c6b",
   "metadata": {},
   "source": [
    "## Some of the popular languages that Data Scientists use are:\n",
    "\n",
    "1. **Python**\n",
    "    - Widely used for its simplicity and versatility.\n",
    "    - Rich ecosystem of libraries like Pandas, NumPy, and Scikit-learn.\n",
    "\n",
    "2. **R**\n",
    "    - Well-suited for statistical analysis and data visualization.\n",
    "    - Has a strong community in academia and research.\n",
    "\n",
    "3. **SQL**\n",
    "    - Essential for database querying and managing relational databases.\n",
    "    - Used for extracting, transforming, and loading (ETL) data.\n",
    "\n",
    "4. **Julia** (optional)\n",
    "    - Emerging language known for its speed in numerical and scientific computing.\n",
    "    - Gaining popularity in certain data science and machine learning applications."
   ]
  },
  {
   "cell_type": "markdown",
   "id": "33252b1c-61c3-4209-8942-74badac2beb9",
   "metadata": {},
   "source": [
    "## Some of the commonly used libraries used by Data Scientists include:\n",
    "\n",
    "1. **Pandas**\n",
    "    - Powerful library for data manipulation and analysis.\n",
    "    - Provides data structures like DataFrames for efficient data handling.\n",
    "\n",
    "2. **NumPy**\n",
    "    - Fundamental package for scientific computing with Python.\n",
    "    - Supports large, multi-dimensional arrays and matrices, along with mathematical functions.\n",
    "\n",
    "3. **Scikit-learn**\n",
    "    - Simple and efficient tools for data mining and data analysis.\n",
    "    - Includes various machine learning algorithms and tools for model selection and evaluation.\n",
    "\n",
    "4. **Matplotlib** (optional)\n",
    "    - Comprehensive library for creating static, animated, and interactive visualizations in Python.\n",
    "    - Commonly used for plotting graphs, charts, and other data visualizations.\n",
    "\n",
    "5. **TensorFlow** (optional)\n",
    "    - Open-source machine learning framework developed by Google.\n",
    "    - Widely used for building and training deep learning models.\n",
    "\n",
    "6. **Keras** (optional)\n",
    "    - High-level neural networks API, written in Python and capable of running on top of TensorFlow.\n",
    "    - Simplifies the process of building and training deep learning models."
   ]
  },
  {
   "cell_type": "markdown",
   "id": "db94050e-9aea-43cc-b69c-772f2d2c792c",
   "metadata": {},
   "source": [
    "| Data Science Tools  |\n",
    "| ------------------- |\n",
    "| Jupyter Notebooks   |\n",
    "| RStudio             |\n",
    "| VSCode              |\n",
    "\n"
   ]
  },
  {
   "cell_type": "markdown",
   "id": "89d8ed0b-94b7-4cbc-97fa-4b43377f3eac",
   "metadata": {},
   "source": [
    "### Below are a few examples of evaluating arithmetic expressions in Python."
   ]
  },
  {
   "cell_type": "code",
   "execution_count": 3,
   "id": "2e77db22-00c7-4eb9-8bc6-69a21aa5a59e",
   "metadata": {
    "tags": []
   },
   "outputs": [
    {
     "name": "stdout",
     "output_type": "stream",
     "text": [
      "17\n"
     ]
    }
   ],
   "source": [
    "# This is a simple arithmetic expression to multiply then add integers.\n",
    "result = (3 * 4) + 5\n",
    "print(result)"
   ]
  },
  {
   "cell_type": "code",
   "execution_count": 4,
   "id": "1c6e4941-114b-4020-929c-22e81931542f",
   "metadata": {
    "tags": []
   },
   "outputs": [
    {
     "name": "stdout",
     "output_type": "stream",
     "text": [
      "3.3333333333333335\n"
     ]
    }
   ],
   "source": [
    "# This will convert 200 minutes to hours by dividing by 60.\n",
    "minutes = 200\n",
    "hours = minutes / 60\n",
    "print(hours)"
   ]
  },
  {
   "cell_type": "markdown",
   "id": "9c4888a0-027a-4a55-96d4-08841aa27e48",
   "metadata": {},
   "source": [
    "## Author\n",
    "\n",
    "Sumal Deshan"
   ]
  }
 ],
 "metadata": {
  "kernelspec": {
   "display_name": "Python",
   "language": "python",
   "name": "conda-env-python-py"
  },
  "language_info": {
   "codemirror_mode": {
    "name": "ipython",
    "version": 3
   },
   "file_extension": ".py",
   "mimetype": "text/x-python",
   "name": "python",
   "nbconvert_exporter": "python",
   "pygments_lexer": "ipython3",
   "version": "3.7.12"
  }
 },
 "nbformat": 4,
 "nbformat_minor": 5
}
